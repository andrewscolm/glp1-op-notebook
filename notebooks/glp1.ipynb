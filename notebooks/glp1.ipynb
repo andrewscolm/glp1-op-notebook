{
 "cells": [
  {
   "cell_type": "code",
   "execution_count": 8,
   "id": "26ba8d4c-d14a-45c1-967e-7c2df58e0789",
   "metadata": {},
   "outputs": [],
   "source": [
    "import os\n",
    "import pandas as pd\n",
    "from ebmdatalab import bq"
   ]
  },
  {
   "cell_type": "code",
   "execution_count": null,
   "id": "effc2572-ba72-4c43-b1f6-7fbfddeb6ac3",
   "metadata": {},
   "outputs": [],
   "source": [
    "sql = f\"\"\"\n",
    "SELECT \n",
    "i.month, -- Converts TIMESTAMP to DATE (as it's always just 1st of month)\n",
    "regional_team,\n",
    "bnf_code,\n",
    "bnf_name,\n",
    "CASE -- This uses the BNF hierarchy to classify by drug\n",
    "  WHEN bnf_code LIKE '0601023AZ%' THEN 'Tirzepatide'\n",
    "  -- Add others here as needed\n",
    "END AS drug,\n",
    "SUM(items) AS items,\n",
    "SUM(quantity) AS quantity,\n",
    "\n",
    "FROM \n",
    "  ebmdatalab.hscic.normalised_prescribing_standard AS i\n",
    "INNER JOIN\n",
    "  ebmdatalab.hscic.practices prac\n",
    "ON\n",
    "  practice = prac.code\n",
    "  AND setting = 4\n",
    "\n",
    "LEFT JOIN (\n",
    "  SELECT\n",
    "    month,\n",
    "    pct_id,\n",
    "    SUM(total_list_size) AS denominator\n",
    "  FROM\n",
    "    hscic.practice_statistics_all_years\n",
    "  GROUP BY\n",
    "    month,\n",
    "    pct_id) AS s\n",
    "ON\n",
    "  i.month = s.month \n",
    "  AND\n",
    "  i.practice = s.pct_id\n",
    "WHERE\n",
    "i.month >= '2020-01-01'\n",
    "AND\n",
    "bnf_code LIKE '0601023AZ%' -- Tirzepatide\n",
    "GROUP BY -- Needed as we are selecting SUM of items and quantity\n",
    "i.month,\n",
    "regional_team,\n",
    "bnf_code,\n",
    "bnf_name  \n",
    "\n",
    "\"\"\"\n",
    "\n",
    "# Define the CSV path for caching the results.\n",
    "csv_path = os.path.join('..', 'data', 'tirzepatide_lists.csv')\n",
    "\n",
    "# Use the cached_read function from the bq library to run the query.\n",
    "vtm_matched = bq.cached_read(sql, csv_path=csv_path)"
   ]
  },
  {
   "cell_type": "code",
   "execution_count": null,
   "id": "63110646-1814-49d5-bd73-e5494f1f9ac4",
   "metadata": {},
   "outputs": [],
   "source": []
  },
  {
   "cell_type": "code",
   "execution_count": null,
   "id": "2a576d30-83ab-446f-9a94-c91c78d8367f",
   "metadata": {},
   "outputs": [],
   "source": []
  }
 ],
 "metadata": {
  "kernelspec": {
   "display_name": "Python 3 (ipykernel)",
   "language": "python",
   "name": "python3"
  },
  "language_info": {
   "codemirror_mode": {
    "name": "ipython",
    "version": 3
   },
   "file_extension": ".py",
   "mimetype": "text/x-python",
   "name": "python",
   "nbconvert_exporter": "python",
   "pygments_lexer": "ipython3",
   "version": "3.12.11"
  }
 },
 "nbformat": 4,
 "nbformat_minor": 5
}
