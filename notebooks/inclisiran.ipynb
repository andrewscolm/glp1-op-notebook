{
 "cells": [
  {
   "cell_type": "code",
   "execution_count": 1,
   "id": "26ba8d4c-d14a-45c1-967e-7c2df58e0789",
   "metadata": {},
   "outputs": [],
   "source": [
    "import os\n",
    "import pandas as pd\n",
    "from ebmdatalab import bq"
   ]
  },
  {
   "cell_type": "code",
   "execution_count": 3,
   "id": "effc2572-ba72-4c43-b1f6-7fbfddeb6ac3",
   "metadata": {},
   "outputs": [
    {
     "name": "stdout",
     "output_type": "stream",
     "text": [
      "Downloading: 100%|\u001b[32m█████████████████████████████████████████████████████████████\u001b[0m|\u001b[0m\n"
     ]
    }
   ],
   "source": [
    "sql = f\"\"\"\n",
    "WITH\n",
    "  drugs AS (\n",
    "  SELECT\n",
    "    DATE(i.month) AS month, -- Converts TIMESTAMP TO DATE (AS it's always just 1st OF month) \n",
    "    regional_team,\n",
    "    bnf_name,\n",
    "    chemical,\n",
    "    SUM(items) AS items,\n",
    "    SUM(quantity) AS quantity,\n",
    "  FROM\n",
    "    ebmdatalab.hscic.normalised_prescribing AS i\n",
    "  INNER JOIN\n",
    "    ebmdatalab.hscic.practices prac\n",
    "  ON\n",
    "    practice = prac.code\n",
    "    AND setting = 4\n",
    "  INNER JOIN\n",
    "    hscic.bnf AS bnf\n",
    "  ON\n",
    "    i.bnf_code = bnf.presentation_code\n",
    "  WHERE\n",
    "    i.bnf_code LIKE '0212000AM%' -- Inclisiran\n",
    "  GROUP BY\n",
    "    month,\n",
    "    bnf_name,\n",
    "    regional_team,\n",
    "    chemical ),\n",
    "  list AS (\n",
    "  SELECT\n",
    "    DATE(month) AS month,\n",
    "    regional_team_id,\n",
    "    SUM(total_list_size) AS total_list_size\n",
    "  FROM\n",
    "    hscic.practice_statistics AS stats\n",
    "  INNER JOIN\n",
    "    hscic.ccgs AS ccgs\n",
    "  ON\n",
    "    stats.pct_id = ccgs.code\n",
    "  GROUP BY\n",
    "    month,\n",
    "    regional_team_id )\n",
    "SELECT\n",
    "  drugs.month AS month,\n",
    "  regional_team,\n",
    "  chemical,\n",
    "  bnf_name,\n",
    "  items,\n",
    "  quantity,\n",
    "  total_list_size,\n",
    "  IEEE_DIVIDE(items, total_list_size) AS rate\n",
    "FROM\n",
    "  drugs\n",
    "INNER JOIN\n",
    "  list\n",
    "ON\n",
    "  drugs.regional_team = list.regional_team_id\n",
    "  AND drugs.month = list.month \n",
    "\n",
    "\"\"\"\n",
    "\n",
    "# Define the CSV path for caching the results.\n",
    "csv_path = os.path.join('..', 'data', 'inclisiran_list.csv')\n",
    "\n",
    "# Use the cached_read function from the bq library to run the query.\n",
    "vtm_matched = bq.cached_read(sql, csv_path=csv_path)"
   ]
  },
  {
   "cell_type": "code",
   "execution_count": null,
   "id": "63110646-1814-49d5-bd73-e5494f1f9ac4",
   "metadata": {},
   "outputs": [],
   "source": []
  },
  {
   "cell_type": "code",
   "execution_count": null,
   "id": "2a576d30-83ab-446f-9a94-c91c78d8367f",
   "metadata": {},
   "outputs": [],
   "source": []
  }
 ],
 "metadata": {
  "kernelspec": {
   "display_name": "Python 3 (ipykernel)",
   "language": "python",
   "name": "python3"
  },
  "language_info": {
   "codemirror_mode": {
    "name": "ipython",
    "version": 3
   },
   "file_extension": ".py",
   "mimetype": "text/x-python",
   "name": "python",
   "nbconvert_exporter": "python",
   "pygments_lexer": "ipython3",
   "version": "3.12.11"
  }
 },
 "nbformat": 4,
 "nbformat_minor": 5
}
