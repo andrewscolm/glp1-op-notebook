{
 "cells": [
  {
   "cell_type": "code",
   "execution_count": null,
   "id": "26ba8d4c-d14a-45c1-967e-7c2df58e0789",
   "metadata": {},
   "outputs": [],
   "source": [
    "import os\n",
    "import pandas as pd\n",
    "from ebmdatalab import bq"
   ]
  },
  {
   "cell_type": "code",
   "execution_count": 7,
   "id": "effc2572-ba72-4c43-b1f6-7fbfddeb6ac3",
   "metadata": {},
   "outputs": [
    {
     "name": "stdout",
     "output_type": "stream",
     "text": [
      "Downloading: 100%|\u001b[32m█████████████████████████████████████████████████████████████\u001b[0m|\u001b[0m\n"
     ]
    }
   ],
   "source": [
    "sql = f\"\"\"\n",
    "SELECT \n",
    "CAST (month AS date) AS month, -- Converts TIMESTAMP to DATE (as it's always just 1st of month)\n",
    "regional_team,\n",
    "bnf_code,\n",
    "bnf_name,\n",
    "CASE -- This uses the BNF hierarchy to classify by drug\n",
    "  WHEN bnf_code LIKE '0601023AQ%' THEN 'Dulaglutide' \n",
    "  WHEN bnf_code LIKE '0601023Y0%' THEN 'Exenatide'\n",
    "  WHEN bnf_code LIKE '0601023AB%' THEN 'Liraglutide'\n",
    "  WHEN bnf_code LIKE '0601023AI%' THEN 'Lixisenatide'\n",
    "  WHEN bnf_code LIKE '0601023AW%' THEN 'Semaglutide'\n",
    "  WHEN bnf_code LIKE '0601023AZ%' THEN 'Tirzepatide'\n",
    "  WHEN bnf_code LIKE '0601023AS%' THEN 'Albiglutide'\n",
    "  WHEN bnf_code LIKE '0601023AU%' THEN 'Insulin degludec/liraglutide'\n",
    "  WHEN bnf_code LIKE '0601012AB%' THEN 'Insulin glargine/lixisenatide'\n",
    "  -- Add others here as needed\n",
    "END AS drug,\n",
    "SUM(items) AS items,\n",
    "SUM(quantity) AS quantity,\n",
    "\n",
    "FROM `ebmdatalab.hscic.normalised_prescribing` np\n",
    "LEFT JOIN ebmdatalab.hscic.practices ON np.practice = practices.code -- We bring this table in so we can filter to GP practices only (see setting below)\n",
    "\n",
    "WHERE\n",
    "month >= '2020-01-01'\n",
    "AND\n",
    "(\n",
    "  bnf_code LIKE '0601023AQ%' -- Dulaglutide\n",
    "  OR bnf_code LIKE '0601023Y0%' -- Exenatide\n",
    "  OR bnf_code LIKE '0601023AB%' -- Liraglutide\n",
    "  OR bnf_code LIKE '0601023AI%' -- Lixisenatide\n",
    "  OR bnf_code LIKE '0601023AW%' -- Semaglutide\n",
    "  OR bnf_code LIKE '0601023AZ%' -- Tirzepatide\n",
    "  OR bnf_code LIKE '0601023AS%' -- Albiglutide -- appears to have been discontinued\n",
    "  -- Below are GLP-1's in combination with insulin\n",
    "  OR bnf_code LIKE '0601023AU%' -- Insulin degludec/liraglutide\n",
    "  OR bnf_code LIKE '0601012AB%' -- Insulin glargine/lixisenatide\n",
    ")\n",
    "AND practices.setting = 4 -- This restricts to GP practices only\n",
    "GROUP BY -- Needed as we are selecting SUM of items and quantity\n",
    "month,\n",
    "regional_team,\n",
    "bnf_code,\n",
    "bnf_name\n",
    "\"\"\"\n",
    "\n",
    "# Define the CSV path for caching the results.\n",
    "csv_path = os.path.join('..', 'data', 'vtm_matched.csv')\n",
    "\n",
    "# Use the cached_read function from the bq library to run the query.\n",
    "vtm_match = bq.cached_read(sql, csv_path=csv_path)"
   ]
  },
  {
   "cell_type": "code",
   "execution_count": null,
   "id": "63110646-1814-49d5-bd73-e5494f1f9ac4",
   "metadata": {},
   "outputs": [],
   "source": []
  },
  {
   "cell_type": "code",
   "execution_count": null,
   "id": "2a576d30-83ab-446f-9a94-c91c78d8367f",
   "metadata": {},
   "outputs": [],
   "source": []
  }
 ],
 "metadata": {
  "kernelspec": {
   "display_name": "Python 3 (ipykernel)",
   "language": "python",
   "name": "python3"
  },
  "language_info": {
   "codemirror_mode": {
    "name": "ipython",
    "version": 3
   },
   "file_extension": ".py",
   "mimetype": "text/x-python",
   "name": "python",
   "nbconvert_exporter": "python",
   "pygments_lexer": "ipython3",
   "version": "3.12.11"
  }
 },
 "nbformat": 4,
 "nbformat_minor": 5
}
